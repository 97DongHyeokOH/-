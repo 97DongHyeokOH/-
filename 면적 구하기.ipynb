{
 "cells": [
  {
   "cell_type": "markdown",
   "metadata": {},
   "source": [
    "# 자치구 별 쓰레기통 커버리지 면적 구하기"
   ]
  },
  {
   "cell_type": "code",
   "execution_count": null,
   "metadata": {},
   "outputs": [],
   "source": [
    "import math\n",
    "import pandas as pd\n",
    "import geopandas as gpd\n",
    "from shapely.geometry import Point, Polygon, LineString\n",
    "from shapely.geometry.multipolygon import MultiPolygon\n",
    "from shapely.geometry.polygon import Polygon\n",
    "from shapely.ops import cascaded_union\n",
    "\n",
    "# 위도, 경도를 이용해 유사 원(정 360각형)을 Polygon 데이터로 만듦\n",
    "\n",
    "# pi는 math.acos(-1)를 사용해도 무방\n",
    "def calc_offsets(d, lat):\n",
    "    return [\n",
    "        abs(360*math.asin(math.sin(d/6371/2/1000)/math.cos(lat*math.pi/180))/math.pi),\n",
    "        180*d/6371/1000/math.pi\n",
    "    ]\n",
    "\n",
    "def radian(degree):\n",
    "    return math.acos(-1)/180*degree\n",
    "\n",
    "def coordinate_after_rotation(c, degree, offsets):\n",
    "    return [\n",
    "        c[0]+math.cos(radian(degree))*offsets[0],\n",
    "        c[1]+math.sin(radian(degree))*offsets[1]\n",
    "    ]\n",
    "\n",
    "def make_circle(lng, lat):\n",
    "    c = (lng, lat)\n",
    "    d = 100\n",
    "\n",
    "    rotating_degree = 1\n",
    "\n",
    "    offsets = calc_offsets(d, c[1])\n",
    "    coordinates = [coordinate_after_rotation(c, d, offsets) for d in range(0, 360, rotating_degree)]\n",
    "    \n",
    "    return Polygon(coordinates)\n",
    "\n",
    "temp_circle = make_circle(126.973210, 37.576)\n",
    "temp_circle"
   ]
  },
  {
   "cell_type": "code",
   "execution_count": null,
   "metadata": {},
   "outputs": [],
   "source": [
    "# 쓰레기통 위치 정보를 가져 옴\n",
    "import pandas as pd\n",
    "\n",
    "addr = pd.read_excel('서울시 가로 쓰레기통 위치 위도, 경도.xlsx')\n",
    "addr = addr.drop(['연번'], axis =1)\n",
    "addr"
   ]
  },
  {
   "cell_type": "code",
   "execution_count": null,
   "metadata": {
    "scrolled": false
   },
   "outputs": [],
   "source": [
    "# 우리나라 전체 읍면구 데이터를 shape 파일로 가져와서 서울시 데이터만 이용(140~164)\n",
    "temp = gpd.GeoDataFrame.from_file('읍면구\\TL_SCCO_SIG.shp', encoding='cp949')\n",
    "\n",
    "temp"
   ]
  },
  {
   "cell_type": "code",
   "execution_count": 5,
   "metadata": {},
   "outputs": [],
   "source": [
    "# 서울시 데이터만 뽑아 냄\n",
    "seoul_df = temp\n",
    "land_area = dict()\n",
    "\n",
    "for i in range(140,165):\n",
    "    name = temp['SIG_KOR_NM'][i]\n",
    "    t_t = temp['geometry'][i]\n",
    "    t = temp['geometry'][i].area\n",
    "    land_area[name] = t"
   ]
  },
  {
   "cell_type": "code",
   "execution_count": null,
   "metadata": {
    "scrolled": true
   },
   "outputs": [],
   "source": [
    "# 쓰레기통 위치가 어느 자치구에 있는지 구분해 줌\n",
    "\n",
    "idx_dict = dict()\n",
    "circles = []\n",
    "\n",
    "for i in range(len(addr)):\n",
    "    loc = addr['설치위치'][i].split()[0]\n",
    "    \n",
    "    if(not loc in idx_dict):\n",
    "        idx_dict[loc] = []\n",
    "    \n",
    "    idx_dict[loc].append(i)\n",
    "    \n",
    "for i in range(len(addr)):\n",
    "    circles.append(make_circle(addr['경도'][i], addr['위도'][i]))\n",
    "\n",
    "idx_dict"
   ]
  },
  {
   "cell_type": "code",
   "execution_count": 7,
   "metadata": {},
   "outputs": [],
   "source": [
    "# QGIS를 이용해 Geometry데이터를 위도 경도로 변환해 불러온다.\n",
    "import json\n",
    "\n",
    "json_temp = []\n",
    "\n",
    "for line in open('./data.geojsonl.json', 'r', encoding='UTF-8'):\n",
    "    json_temp.append(json.loads(line))"
   ]
  },
  {
   "cell_type": "code",
   "execution_count": 31,
   "metadata": {},
   "outputs": [],
   "source": [
    "# 전체 면적 - 쓰레기통 커버 면적\n",
    "result_area = []\n",
    "# (전체 면적 - 쓰레기통 커버 면적) * 100 / 전체 면적\n",
    "result_percent = []\n",
    "\n",
    "# 140 ~ 165까지가 서울시 자치구\n",
    "for i in range(140, 165):\n",
    "    # 자치구 Polygon data\n",
    "    poly_temp = Polygon([[p[0], p[1]] for p in json_temp[i]['geometry']['coordinates'][0]])\n",
    "    # 자치구 이름\n",
    "    name = json_temp[i]['properties']['SIG_KOR_NM']\n",
    "    # 해당 자치구에 있는 쓰레기통 커버(100m 반지름의 원)들을 모아 놓음\n",
    "    polygons = [circles[i] for i in idx_dict[name]]\n",
    "    # 모은 polygon들을 하나의 Multi Polygon 데이터로 만들어 준다.\n",
    "    temp_trash = cascaded_union(polygons)\n",
    "    # 전체 면적에서 쓰레기통 커버 면적을 빼준다.\n",
    "    trash = gpd.GeoSeries(temp_trash)\n",
    "    df1 = gpd.GeoDataFrame({'geometry': poly_temp, 'df1':[1.2]})\n",
    "    df2 = gpd.GeoDataFrame({'geometry': trash, 'df2':[1]})\n",
    "    result = gpd.overlay(df1, df2, how='difference')\n",
    "    result_area.append(result['geometry'][0].area*(10**10))\n",
    "    result_percent.append((temp_trash.area / poly_temp.area) * 100)"
   ]
  },
  {
   "cell_type": "code",
   "execution_count": 36,
   "metadata": {},
   "outputs": [],
   "source": [
    "# 결과값을 dataframe에 저장\n",
    "result_df = pd.DataFrame({\n",
    "    '자치구': list(land_area.keys()),\n",
    "    '결과 면적': result_area,\n",
    "    '수요충족비율 -> (쓰레기통 커버리지 / 자치구 면적 (%))': result_percent\n",
    "})"
   ]
  },
  {
   "cell_type": "code",
   "execution_count": 38,
   "metadata": {},
   "outputs": [],
   "source": [
    "# 결과 dataframe을 엑셀 파일로 저장\n",
    "result_df.to_excel('수요충족비율_최종.xlsx')"
   ]
  }
 ],
 "metadata": {
  "kernelspec": {
   "display_name": "Python 3",
   "language": "python",
   "name": "python3"
  },
  "language_info": {
   "codemirror_mode": {
    "name": "ipython",
    "version": 3
   },
   "file_extension": ".py",
   "mimetype": "text/x-python",
   "name": "python",
   "nbconvert_exporter": "python",
   "pygments_lexer": "ipython3",
   "version": "3.6.5"
  }
 },
 "nbformat": 4,
 "nbformat_minor": 5
}
